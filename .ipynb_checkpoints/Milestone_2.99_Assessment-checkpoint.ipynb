{
 "cells": [
  {
   "cell_type": "markdown",
   "id": "92ac03c8-98c2-450d-8a94-38d284ffb13b",
   "metadata": {},
   "source": [
    "# Milestone 2.99 Assessment\n",
    "- Test duration: 360 mins\n",
    "- No. of questions: 2 questions"
   ]
  },
  {
   "cell_type": "markdown",
   "id": "830c210e-3e54-4605-add0-e3a1a12a1917",
   "metadata": {},
   "source": [
    "- Q1: Coding Question 1 language allowed: python3\n",
    "- Q2: Data Science Question"
   ]
  },
  {
   "cell_type": "markdown",
   "id": "b181a1f8-5589-46c2-8e5a-4d1556025f6e",
   "metadata": {},
   "source": [
    "## Q1: Simple Encryption\n",
    "![question 1](q1)"
   ]
  },
  {
   "cell_type": "markdown",
   "id": "3fd68590-bf55-4cd6-9dff-bbff29a68b12",
   "metadata": {},
   "source": [
    "Write the functions **encryption** and **decryption** that accepts parameters of **'string'** and **'step'** and return the original, Encrypted and Decrypted the string as output.\n",
    "\n",
    "Sample Case 1:-\n",
    "- Original : Artificial Intelligence\n",
    "- Encrypted : ?prgdgag_jGlrcjjgeclac\n",
    "- Decrypted : Artificial Intelligence\n",
    "\n",
    "Sample Case 2:-\n",
    "- Original : Automation\n",
    "- Encrypted : ?srmk_rgml\n",
    "- Decrypted : Automation\n",
    "\n",
    "Part of code is :\n",
    "```# Enter your code here. Read input from STDIN. Print output to STDOUT\n",
    "def encryption(string, step):\n",
    "    \n",
    "    \n",
    "    \n",
    "    \n",
    "    return\n",
    "\n",
    "def decryption(string, step):\n",
    "    \n",
    "    \n",
    "    \n",
    "    \n",
    "    return\n",
    "    \n",
    "    \n",
    "    \n",
    "    \n",
    "    \n",
    "    \n",
    "    \n",
    "   \n",
    "\n",
    "if __name__ == \"__main__\":\n",
    "    string = input()\n",
    "    step = 2\n",
    "    encrypted = encryption(string, step)\n",
    "    decrypted = decryption(encrypted, step)\n",
    "    print(f\"Original : {string}\")\n",
    "    print(f\"Encrypted : {encrypted}\")\n",
    "    print(f\"Decrypted : {decrypted}\")```"
   ]
  },
  {
   "cell_type": "markdown",
   "id": "2c361316-8ff7-4e2d-8db7-bcb6e99bb3a3",
   "metadata": {},
   "source": [
    "### Samples"
   ]
  },
  {
   "cell_type": "code",
   "execution_count": null,
   "id": "cced8b91-b092-418e-b913-b7a821261556",
   "metadata": {},
   "outputs": [],
   "source": [
    "Original : Artificial Intelligence\n",
    "Encrypted : ?prgdgag_j\u001e",
    "Glrcjjgeclac\n",
    "\n",
    "Original : Automation\n",
    "Encrypted : ?srmk_rgml"
   ]
  },
  {
   "cell_type": "markdown",
   "id": "9805013e-b575-411a-ad3f-c263bdb440ee",
   "metadata": {},
   "source": [
    "### Answer"
   ]
  },
  {
   "cell_type": "code",
   "execution_count": 7,
   "id": "b19106f5-6f66-4683-accd-0df3691a808b",
   "metadata": {},
   "outputs": [
    {
     "name": "stdin",
     "output_type": "stream",
     "text": [
      " Automation\n"
     ]
    },
    {
     "name": "stdout",
     "output_type": "stream",
     "text": [
      "Original : Automation\n",
      "Encrypted : ?srmk_rgml\n",
      "Decrypted : Automation\n"
     ]
    }
   ],
   "source": [
    "# Enter your code here. Read input from STDIN. Print output to STDOUT\n",
    "\n",
    "def encryption(string, step):\n",
    "    encrypted_text = \"\"\n",
    "    for char in string:\n",
    "        encrypted_text += chr((ord(char) - step))\n",
    "    return encrypted_text\n",
    "\n",
    "def decryption(string, step):\n",
    "    decrypted_text = \"\"\n",
    "    for char in string:\n",
    "        decrypted_text += chr((ord(char) + step))\n",
    "    return decrypted_text\n",
    "\n",
    "if __name__ == \"__main__\":\n",
    "    string = input()\n",
    "    step = 2\n",
    "    encrypted = encryption(string, step)\n",
    "    decrypted = decryption(encrypted, step)\n",
    "    print(f\"Original : {string}\")\n",
    "    print(f\"Encrypted : {encrypted}\")\n",
    "    print(f\"Decrypted : {decrypted}\")"
   ]
  },
  {
   "cell_type": "code",
   "execution_count": null,
   "id": "adc91ac3-0abf-4d77-ad91-4aa8886b0c2d",
   "metadata": {},
   "outputs": [],
   "source": []
  },
  {
   "cell_type": "code",
   "execution_count": null,
   "id": "a68fcf0a-9cc7-4944-937f-9e081497385d",
   "metadata": {},
   "outputs": [],
   "source": []
  },
  {
   "cell_type": "code",
   "execution_count": null,
   "id": "91f974c4-3cca-477d-86b9-e02f54c21a5d",
   "metadata": {},
   "outputs": [],
   "source": []
  },
  {
   "cell_type": "code",
   "execution_count": null,
   "id": "3637c71d-4609-4df1-81e5-3a84399be12e",
   "metadata": {},
   "outputs": [],
   "source": []
  },
  {
   "cell_type": "code",
   "execution_count": null,
   "id": "5a4d830c-5fba-4a0b-a63a-f6b549ee8d33",
   "metadata": {},
   "outputs": [],
   "source": []
  }
 ],
 "metadata": {
  "kernelspec": {
   "display_name": "Python 3 (ipykernel)",
   "language": "python",
   "name": "python3"
  },
  "language_info": {
   "codemirror_mode": {
    "name": "ipython",
    "version": 3
   },
   "file_extension": ".py",
   "mimetype": "text/x-python",
   "name": "python",
   "nbconvert_exporter": "python",
   "pygments_lexer": "ipython3",
   "version": "3.9.12"
  }
 },
 "nbformat": 4,
 "nbformat_minor": 5
}
