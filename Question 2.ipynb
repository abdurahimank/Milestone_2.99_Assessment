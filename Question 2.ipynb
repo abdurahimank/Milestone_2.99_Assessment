{
 "cells": [
  {
   "cell_type": "code",
   "execution_count": 1,
   "id": "b2d85e20-b909-487f-acbb-86d83a0830e1",
   "metadata": {},
   "outputs": [],
   "source": [
    "import pandas as pd"
   ]
  },
  {
   "cell_type": "code",
   "execution_count": 2,
   "id": "c98cee7e-4d96-45ec-aaa4-9c1eb7c8033b",
   "metadata": {},
   "outputs": [],
   "source": [
    "filename1 = \"online_retail_data1.csv\"\n",
    "filename2 = \"online_retail_data2.csv\""
   ]
  },
  {
   "cell_type": "code",
   "execution_count": 4,
   "id": "09a054f8-b634-4aa5-985f-78563943688c",
   "metadata": {},
   "outputs": [],
   "source": [
    "def read_data(filename1, filename2):\n",
    "    \"\"\"\n",
    "    Write a function to read the dataframes and return them as as a tuple\n",
    "    Input:\n",
    "        filename1 - csv file 1\n",
    "        filename1 - csv file 1\n",
    "    output: Tuple\n",
    "        (dataframe1,dataframe2)\n",
    "    \"\"\"\n",
    "    dataframe1 = pd.read_csv(filename1)\n",
    "    dataframe2 = pd.read_csv(filename2)\n",
    "    return tuple((dataframe1, dataframe2))"
   ]
  },
  {
   "cell_type": "code",
   "execution_count": null,
   "id": "03bb04e2-5399-4ea5-9f0f-5180961fea33",
   "metadata": {},
   "outputs": [],
   "source": [
    "def merge_dataframe(df1, df2):\n",
    "    \"\"\"\n",
    "    Write a function to merge the two dataframes(given in the parameter) and return the merged dataframe\n",
    "    Input:\n",
    "        df1 - dataframe 1\n",
    "        df2 - dataframe 2\n",
    "    Output:\n",
    "        merged dataframe (DataFrame)\n",
    "    \"\"\"\n",
    "    DataFrame = pd.concat([df1, df2], ignore_index=True)\n",
    "    return DataFrame"
   ]
  },
  {
   "cell_type": "code",
   "execution_count": null,
   "id": "59dcb66b-4d4a-42dc-937b-fc9c541ff622",
   "metadata": {},
   "outputs": [],
   "source": [
    "def convert_datatype(merged_df):\n",
    "    \"\"\"\n",
    "    Write a function to convert the 'Quantity' column to integer datatype and return the resulting dataframe\n",
    "    Input:\n",
    "        merged_df - DataFrame\n",
    "    Output:\n",
    "        DataFrame\n",
    "    \"\"\"\n",
    "    merged_df['Quantity'] = merged_df['Quantity'].astype(int)\n",
    "    return merged_df"
   ]
  },
  {
   "cell_type": "code",
   "execution_count": null,
   "id": "48549b50-f633-4855-82c7-fb82e5a4151a",
   "metadata": {},
   "outputs": [],
   "source": [
    "def remove_numbers(dataframe):\n",
    "    \"\"\"\n",
    "    Write a function to remove the numerical values from the 'Country' column and return the dataframe\n",
    "    Input:\n",
    "        dataframe - DataFrame\n",
    "    Output:\n",
    "        DataFrame\n",
    "    \"\"\"\n",
    "    dataframe['Country'] = dataframe['Country'].str.replace('\\d+', '', regex=True)\n",
    "    return dataframe"
   ]
  },
  {
   "cell_type": "code",
   "execution_count": null,
   "id": "2a544d92-c14c-4cd6-98d0-ed7462eca14d",
   "metadata": {},
   "outputs": [],
   "source": [
    "def num_null_values(dataframe):\n",
    "    \"\"\"\n",
    "    Write a function to return the number of null values in each column as a dictionary\n",
    "    Input:\n",
    "        dataframe - DataFrame\n",
    "    Output:\n",
    "        Dictionary\n",
    "    \"\"\"\n",
    "    def count_null_values(df):\n",
    "        null_counts = df.isnull().sum().to_dict()\n",
    "        return null_counts\n",
    "    null_counts_dict = count_null_values(dataframe)\n",
    "    return null_counts_dict"
   ]
  },
  {
   "cell_type": "code",
   "execution_count": null,
   "id": "8c56c6a9-df26-42d5-aa0c-862e80800430",
   "metadata": {},
   "outputs": [],
   "source": [
    "def unique_list(dataframe):\n",
    "    \"\"\"\n",
    "    Write a function to return the unique InvoiceNo values as a list where the Description column has null values \n",
    "    Input:\n",
    "        dataframe - DataFrame\n",
    "    Output:\n",
    "        List\n",
    "    \"\"\"\n",
    "    lis = list(dataframe.loc[dataframe[\"Description\"].isna()][\"InvoiceNo\"].unique())\n",
    "    return lis"
   ]
  },
  {
   "cell_type": "code",
   "execution_count": null,
   "id": "3c3a2952-9cdd-44d7-87bc-1d18e9153355",
   "metadata": {},
   "outputs": [],
   "source": [
    "def drop_columns(dataframe):\n",
    "    \"\"\"\n",
    "    Write a function to drop the columns which have null value in them and return the dataframe\n",
    "    Input:\n",
    "        dataframe - DataFrame\n",
    "    Output:\n",
    "        DataFrame\n",
    "    \"\"\"\n",
    "    df = dataframe.dropna(axis='columns')\n",
    "    return df"
   ]
  },
  {
   "cell_type": "code",
   "execution_count": null,
   "id": "adaebf21-113b-44b6-8aff-4f9676c7a948",
   "metadata": {},
   "outputs": [],
   "source": [
    "def country_names(dataframe):\n",
    "    \"\"\"\n",
    "    Write a function to get a list of unique country names and the number of unique countries as a tuple\n",
    "    Input:\n",
    "        dataframe - DataFrame\n",
    "    Output:\n",
    "        Tuple\n",
    "    \"\"\"\n",
    "    lis2 = list(dataframe[\"Country\"].unique())\n",
    "    tup2 = (lis2, len(lis2))\n",
    "    return tup2"
   ]
  }
 ],
 "metadata": {
  "kernelspec": {
   "display_name": "Python 3 (ipykernel)",
   "language": "python",
   "name": "python3"
  },
  "language_info": {
   "codemirror_mode": {
    "name": "ipython",
    "version": 3
   },
   "file_extension": ".py",
   "mimetype": "text/x-python",
   "name": "python",
   "nbconvert_exporter": "python",
   "pygments_lexer": "ipython3",
   "version": "3.9.12"
  }
 },
 "nbformat": 4,
 "nbformat_minor": 5
}
