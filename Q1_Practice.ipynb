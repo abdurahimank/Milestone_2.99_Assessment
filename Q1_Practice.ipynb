{
 "cells": [
  {
   "cell_type": "code",
   "execution_count": 1,
   "id": "af017a4a-4eaa-4888-9649-792412c5e084",
   "metadata": {},
   "outputs": [
    {
     "name": "stdout",
     "output_type": "stream",
     "text": [
      "A: 65\n",
      "B: 66\n",
      "C: 67\n",
      "D: 68\n",
      "E: 69\n",
      "F: 70\n",
      "G: 71\n",
      "H: 72\n",
      "I: 73\n",
      "J: 74\n",
      "K: 75\n",
      "L: 76\n",
      "M: 77\n",
      "N: 78\n",
      "O: 79\n",
      "P: 80\n",
      "Q: 81\n",
      "R: 82\n",
      "S: 83\n",
      "T: 84\n",
      "U: 85\n",
      "V: 86\n",
      "W: 87\n",
      "X: 88\n",
      "Y: 89\n",
      "Z: 90\n",
      "a: 97\n",
      "b: 98\n",
      "c: 99\n",
      "d: 100\n",
      "e: 101\n",
      "f: 102\n",
      "g: 103\n",
      "h: 104\n",
      "i: 105\n",
      "j: 106\n",
      "k: 107\n",
      "l: 108\n",
      "m: 109\n",
      "n: 110\n",
      "o: 111\n",
      "p: 112\n",
      "q: 113\n",
      "r: 114\n",
      "s: 115\n",
      "t: 116\n",
      "u: 117\n",
      "v: 118\n",
      "w: 119\n",
      "x: 120\n",
      "y: 121\n",
      "z: 122\n"
     ]
    }
   ],
   "source": [
    "for char in 'ABCDEFGHIJKLMNOPQRSTUVWXYZabcdefghijklmnopqrstuvwxyz':\n",
    "    print(f\"{char}: {ord(char)}\")"
   ]
  },
  {
   "cell_type": "code",
   "execution_count": 2,
   "id": "fcda98b8-44e7-481b-93e3-feef930e557d",
   "metadata": {},
   "outputs": [
    {
     "name": "stdout",
     "output_type": "stream",
     "text": [
      "A: 65\n",
      "r: 114\n",
      "t: 116\n",
      "i: 105\n",
      "f: 102\n",
      "i: 105\n",
      "c: 99\n",
      "i: 105\n",
      "a: 97\n",
      "l: 108\n",
      " : 32\n",
      "I: 73\n",
      "n: 110\n",
      "t: 116\n",
      "e: 101\n",
      "l: 108\n",
      "l: 108\n",
      "i: 105\n",
      "g: 103\n",
      "e: 101\n",
      "n: 110\n",
      "c: 99\n",
      "e: 101\n"
     ]
    }
   ],
   "source": [
    "for char in 'Artificial Intelligence':\n",
    "    print(f\"{char}: {ord(char)}\")"
   ]
  },
  {
   "cell_type": "code",
   "execution_count": 3,
   "id": "01e25431-ca4c-479c-a553-a7b1a5734f32",
   "metadata": {},
   "outputs": [
    {
     "name": "stdout",
     "output_type": "stream",
     "text": [
      "?: 63\n",
      "p: 112\n",
      "r: 114\n",
      "g: 103\n",
      "d: 100\n",
      "g: 103\n",
      "a: 97\n",
      "g: 103\n",
      "_: 95\n",
      "j: 106\n",
      "\u001e",
      ": 30\n",
      "G: 71\n",
      "l: 108\n",
      "r: 114\n",
      "c: 99\n",
      "j: 106\n",
      "j: 106\n",
      "g: 103\n",
      "e: 101\n",
      "c: 99\n",
      "l: 108\n",
      "a: 97\n",
      "c: 99\n"
     ]
    },
    {
     "name": "stderr",
     "output_type": "stream",
     "text": [
      "C:\\Users\\abdur\\anaconda3\\lib\\site-packages\\IPython\\core\\inputtransformer2.py:603: UserWarning: `make_tokens_by_line` received a list of lines which do not have lineending markers ('\\n', '\\r', '\\r\\n', '\\x0b', '\\x0c'), behavior will be unspecified\n",
      "  tokens_by_line = make_tokens_by_line(lines)\n"
     ]
    }
   ],
   "source": [
    "for char in '?prgdgag_j\u001e",
    "Glrcjjgeclac':\n",
    "    print(f\"{char}: {ord(char)}\")"
   ]
  },
  {
   "cell_type": "code",
   "execution_count": 4,
   "id": "b651edcb-1638-4569-976a-a6b915f5f357",
   "metadata": {},
   "outputs": [
    {
     "name": "stdout",
     "output_type": "stream",
     "text": [
      "A: 65\n",
      "u: 117\n",
      "t: 116\n",
      "o: 111\n",
      "m: 109\n",
      "a: 97\n",
      "t: 116\n",
      "i: 105\n",
      "o: 111\n",
      "n: 110\n"
     ]
    }
   ],
   "source": [
    "for char in 'Automation':\n",
    "    print(f\"{char}: {ord(char)}\")"
   ]
  },
  {
   "cell_type": "code",
   "execution_count": 5,
   "id": "bb2758c5-6575-48d7-b669-33579b22b7df",
   "metadata": {},
   "outputs": [
    {
     "name": "stdout",
     "output_type": "stream",
     "text": [
      "?: 63\n",
      "s: 115\n",
      "r: 114\n",
      "m: 109\n",
      "k: 107\n",
      "_: 95\n",
      "r: 114\n",
      "g: 103\n",
      "m: 109\n",
      "l: 108\n"
     ]
    }
   ],
   "source": [
    "for char in '?srmk_rgml':\n",
    "    print(f\"{char}: {ord(char)}\")"
   ]
  },
  {
   "cell_type": "code",
   "execution_count": null,
   "id": "4c9464bd-0d6b-434b-96a7-b10c6b5ef958",
   "metadata": {},
   "outputs": [],
   "source": []
  }
 ],
 "metadata": {
  "kernelspec": {
   "display_name": "Python 3 (ipykernel)",
   "language": "python",
   "name": "python3"
  },
  "language_info": {
   "codemirror_mode": {
    "name": "ipython",
    "version": 3
   },
   "file_extension": ".py",
   "mimetype": "text/x-python",
   "name": "python",
   "nbconvert_exporter": "python",
   "pygments_lexer": "ipython3",
   "version": "3.9.12"
  }
 },
 "nbformat": 4,
 "nbformat_minor": 5
}
